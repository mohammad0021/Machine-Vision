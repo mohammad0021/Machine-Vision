{
 "cells": [
  {
   "cell_type": "code",
   "execution_count": 1,
   "metadata": {},
   "outputs": [],
   "source": [
    "import cv2 as cv\n",
    "import numpy as np\n",
    "from skimage.io import imshow\n",
    "from IPython.display import Image"
   ]
  },
  {
   "cell_type": "code",
   "execution_count": 2,
   "metadata": {},
   "outputs": [],
   "source": [
    "def message2binary(message):\n",
    "    if type(message) == str:\n",
    "        result= ''.join([ format(ord(i), \"08b\") for i in message ])\n",
    "    elif type(message) == bytes or type(message) == np.ndarray:\n",
    "        result= [ format(i, \"08b\") for i in message ]\n",
    "    elif type(message) == int or type(message) == np.uint8:\n",
    "        result=format(message, \"08b\")\n",
    "    elif type(message) == list:\n",
    "        result= []\n",
    "        result.append(format(message[0], \"08b\"))\n",
    "        result.append(format(message[1], \"08b\"))\n",
    "        result.append(format(message[2], \"08b\"))\n",
    "        \n",
    "    return result"
   ]
  },
  {
   "cell_type": "code",
   "execution_count": 3,
   "metadata": {},
   "outputs": [],
   "source": [
    "def BinaryTointeger(binary):  \n",
    "    binary1 = binary  \n",
    "    decimal, i, n = 0, 0, 0\n",
    "    while(binary != 0):  \n",
    "        dec = binary % 10\n",
    "        decimal = decimal + dec * pow(2, i)  \n",
    "        binary = binary//10\n",
    "        i += 1\n",
    "    return (decimal)"
   ]
  },
  {
   "cell_type": "code",
   "execution_count": 4,
   "metadata": {},
   "outputs": [],
   "source": [
    "def Binary2String(bin_data):\n",
    "    str_data= ''\n",
    "    for i in range(0, len(bin_data), 7): \n",
    "        temp_data = int(bin_data[i:i + 7]) \n",
    "        decimal_data = BinaryTointeger(temp_data) \n",
    "        str_data = str_data + chr(decimal_data)  \n",
    "    return str_data"
   ]
  },
  {
   "cell_type": "code",
   "execution_count": 5,
   "metadata": {},
   "outputs": [],
   "source": [
    "list1=[ ]\n",
    "def encode_data(img, data):\n",
    "    no_bytes=(img.shape[0] * img.shape[1] * 3) // 8\n",
    "    #print(\"Maximum bytes to encode:\", no_bytes)\n",
    "    \n",
    "    data+= '*****'    # Using as delimeter\n",
    "    data_binary=message2binary(data)\n",
    "    print(data_binary)\n",
    "    data_len=len(data_binary)\n",
    "    # print(\"The Length of Binary data\",data_len)\n",
    "    \n",
    "    data_index = 0\n",
    "    \n",
    "    for i in img:\n",
    "        for pixel in i:  \n",
    "            r, g, b = message2binary(pixel)\n",
    "            if data_index < data_len:\n",
    "                pixel[0] = int(r[:-1] + data_binary[data_index], 2)\n",
    "                data_index += 1\n",
    "                list1.append(pixel[0])\n",
    "\n",
    "            if data_index < data_len:\n",
    "                pixel[1] = int(g[:-1] + data_binary[data_index], 2)\n",
    "                data_index += 1\n",
    "                list1.append(pixel[1])\n",
    "\n",
    "            if data_index < data_len:\n",
    "                pixel[2] = int(b[:-1] + data_binary[data_index], 2)\n",
    "                data_index += 1\n",
    "                list1.append(pixel[2])\n",
    "\n",
    "            if data_index >= data_len:\n",
    "                break\n",
    "                \n",
    "    cv.imwrite(\"final.png\", img)\n",
    "    print(\"\\n\\t\\t ######### Encoded the saved as final.png #########\")"
   ]
  },
  {
   "cell_type": "code",
   "execution_count": 6,
   "metadata": {},
   "outputs": [
    {
     "name": "stdout",
     "output_type": "stream",
     "text": [
      "0100110101101111011010000110000101101101011011010110000101100100010100100110010101111010011000010101001101100001011010100110000101100100011010010010101000101010001010100010101000101010\n",
      "\n",
      "\t\t ######### Encoded the saved as final.png #########\n"
     ]
    }
   ],
   "source": [
    "img= cv.imread(\"images/m3.png\")\n",
    "img= cv.resize(img, (100,100))\n",
    "# imshow(img)\n",
    "encode_data(img, \"MohammadRezaSajadi\")"
   ]
  },
  {
   "cell_type": "code",
   "execution_count": 7,
   "metadata": {},
   "outputs": [],
   "source": [
    "def decode_data(img):\n",
    "    binary_data = \"\"\n",
    "    for i in img:\n",
    "        for pixel in i:\n",
    "            r, g, b = message2binary(pixel) \n",
    "            binary_data += r[-1]\n",
    "            binary_data += g[-1]\n",
    "            binary_data += b[-1]\n",
    " \n",
    "    all_bytes = [ binary_data[i: i+8] for i in range(0, len(binary_data), 8) ]\n",
    "    decoded_data = \"\"\n",
    "    for byte in all_bytes:\n",
    "        decoded_data += chr(int(byte, 2))\n",
    "        if decoded_data[-5:] == \"*****\": #Checking \"*****\"\n",
    "            break\n",
    "\n",
    "    print(\"The Decode data : \", decoded_data[:-5])"
   ]
  },
  {
   "cell_type": "code",
   "execution_count": 8,
   "metadata": {},
   "outputs": [
    {
     "name": "stdout",
     "output_type": "stream",
     "text": [
      "The Decode data :  MohammadRezaSajadi\n"
     ]
    }
   ],
   "source": [
    "image1= cv.imread(\"final.png\")\n",
    "decode_data(image1)"
   ]
  },
  {
   "cell_type": "code",
   "execution_count": null,
   "metadata": {},
   "outputs": [],
   "source": []
  }
 ],
 "metadata": {
  "kernelspec": {
   "display_name": "Python 3",
   "language": "python",
   "name": "python3"
  },
  "language_info": {
   "codemirror_mode": {
    "name": "ipython",
    "version": 3
   },
   "file_extension": ".py",
   "mimetype": "text/x-python",
   "name": "python",
   "nbconvert_exporter": "python",
   "pygments_lexer": "ipython3",
   "version": "3.6.9"
  }
 },
 "nbformat": 4,
 "nbformat_minor": 4
}
